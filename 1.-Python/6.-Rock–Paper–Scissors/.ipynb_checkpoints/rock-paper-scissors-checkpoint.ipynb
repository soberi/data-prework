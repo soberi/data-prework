{
 "cells": [
  {
   "cell_type": "markdown",
   "metadata": {},
   "source": [
    "<img src=\"https://bit.ly/2VnXWr2\" width=\"100\" align=\"left\">"
   ]
  },
  {
   "cell_type": "markdown",
   "metadata": {},
   "source": [
    "# Rock, Paper & Scissors\n",
    "\n",
    "Let's play the famous game against our computer. You can check the rules [here](https://en.wikipedia.org/wiki/Rock%E2%80%93paper%E2%80%93scissors). \n",
    "\n",
    "## Task\n",
    "Create a program that imitates the playability of the well known game of rock, paper, scissors. Follow the guidelines provided.\n",
    "\n",
    "## Tools\n",
    "1. Loop: **for/while**\n",
    "2. Functions: **input(), print()...**\n",
    "3. Conditional statements: **if, elif, else**\n",
    "4. Definition of functions. Modular programming\n",
    "5. Import modules\n",
    "\n",
    "**To solve this challenge, the use of functions is recommended.**\n",
    "\n",
    "#### 1. Import the choice function of the random module."
   ]
  },
  {
   "cell_type": "code",
   "execution_count": null,
   "metadata": {},
   "outputs": [],
   "source": [
    "from random import choice"
   ]
  },
  {
   "cell_type": "markdown",
   "metadata": {},
   "source": [
    "#### 2. Create a list that includes the 3 possible gesture options of the game: 'rock', 'paper' or 'scissors'. Store the list in a variable called `gestures`."
   ]
  },
  {
   "cell_type": "code",
   "execution_count": null,
   "metadata": {},
   "outputs": [],
   "source": [
    "gestures = ['rock', 'paper', 'scissors']"
   ]
  },
  {
   "cell_type": "markdown",
   "metadata": {},
   "source": [
    "#### 3. Create a variable called `n_rounds` to store the maximum number of rounds to play in a game. \n",
    "Remember that the number of rounds must be odd: 1, 3, 5, ..."
   ]
  },
  {
   "cell_type": "code",
   "execution_count": null,
   "metadata": {},
   "outputs": [],
   "source": [
    "n_rounds = 3"
   ]
  },
  {
   "cell_type": "markdown",
   "metadata": {},
   "source": [
    "#### 4. Create a variable called `rounds_to_win` to store the number of rounds that a player must win to win the game.\n",
    "**Hint**: the value stored in `rounds_to_win` depends on the value of `n_rounds`. "
   ]
  },
  {
   "cell_type": "code",
   "execution_count": null,
   "metadata": {},
   "outputs": [],
   "source": [
    "rounds_to_win = ((n_rounds - 1) / 2) + 1"
   ]
  },
  {
   "cell_type": "markdown",
   "metadata": {},
   "source": [
    "#### 5. Create two variables to store the number of rounds that the computer and the player have won. Call these variables `cpu_score` and `player_score`."
   ]
  },
  {
   "cell_type": "code",
   "execution_count": null,
   "metadata": {},
   "outputs": [],
   "source": [
    "cpu_score = 0\n",
    "player_score = 0"
   ]
  },
  {
   "cell_type": "markdown",
   "metadata": {},
   "source": [
    "#### 6. Define a function that randomly returns one of the 3 gesture options.\n",
    "You will use this function to simulate the gesture choice of the computer. "
   ]
  },
  {
   "cell_type": "code",
   "execution_count": null,
   "metadata": {},
   "outputs": [],
   "source": [
    "def cpu_gesture():\n",
    "    \"\"\"Displays random choice from cpu\"\"\"\n",
    "    return choice(gestures)\n",
    "#print(cpu_hand)"
   ]
  },
  {
   "cell_type": "markdown",
   "metadata": {},
   "source": [
    "#### 7. Define a function that asks the player which is the gesture he or she wants to show: 'rock', 'paper' or 'scissors'.\n",
    "The player should only be allowed to choose one of the 3 gesture options. If the player's choice is not rock, paper or scissors, keep asking until it is."
   ]
  },
  {
   "cell_type": "code",
   "execution_count": null,
   "metadata": {},
   "outputs": [],
   "source": [
    "def get_gesture():\n",
    "    \"\"\"Prompts and stores choice of human player\"\"\" \n",
    "    while True:\n",
    "        player_gesture = input(\"Choose \" + str(gestures).strip(\"[]\") + \": \")\n",
    "        if player_gesture not in gestures:\n",
    "            print(\"Sorry, please choose one of the stated options\")\n",
    "        else:\n",
    "            #print(\"Great choice\")\n",
    "            break\n",
    "        \n",
    "    return player_gesture"
   ]
  },
  {
   "cell_type": "markdown",
   "metadata": {},
   "source": [
    "#### 8. Define a function that checks who won a round. \n",
    "The function should return 0 if there is a tie, 1 if the computer wins and 2 if the player wins."
   ]
  },
  {
   "cell_type": "code",
   "execution_count": null,
   "metadata": {},
   "outputs": [],
   "source": [
    "def round_winner(cpu_hand, player_hand):\n",
    "    \"\"\"Checks player input against random cpu gesture\"\"\"\n",
    "    gestures_dict = {'rock': 0, 'paper': 1, 'scissors': 2}\n",
    "    player_hand = gestures_dict.get(player_hand)\n",
    "    cpu_hand = gestures_dict.get(cpu_hand)\n",
    "\n",
    "    results_table = [[0, 2, 1], [1, 0, 2], [2, 1, 0]]\n",
    "\n",
    "    result_idx = results_table[cpu_hand][player_hand]\n",
    "    #print(result_idx)\n",
    "    return result_idx\n",
    "    \n",
    "\n",
    "#print(cpu_hand, player_hand)"
   ]
  },
  {
   "cell_type": "markdown",
   "metadata": {},
   "source": [
    "#### 9. Define a function that prints the choice of the computer, the choice of the player and a message that announces who won the current round. \n",
    "You should also use this function to update the variables that count the number of rounds that the computer and the player have won. The score of the winner increases by one point. If there is a tie, the score does not increase."
   ]
  },
  {
   "cell_type": "code",
   "execution_count": null,
   "metadata": {},
   "outputs": [],
   "source": [
    "def display_choice(cpu_hand, player_hand, result_idx):\n",
    "    print(\"The computer chose\", cpu_hand)\n",
    "    print(\"And you chose\", player_hand)\n",
    "    if result == 0:\n",
    "        message = \"It's a draw\"\n",
    "    elif result == 1:\n",
    "        message = \"The computer beat you\"\n",
    "        global cpu_score\n",
    "        cpu_score += 1\n",
    "    elif result == 2:\n",
    "        message = \"The human wins\"\n",
    "        global player_score\n",
    "        player_score += 1\n",
    "    else:\n",
    "        message = \"hmmm, something went wrong\"\n",
    "    print(message)\n",
    "    print(\"cpu wins:\", cpu_score, \"player wins:\", player_score)\n",
    "    return message, cpu_score, player_score\n",
    "    \n",
    "#message = display_choice(cpu_hand, player_hand, result)"
   ]
  },
  {
   "cell_type": "markdown",
   "metadata": {},
   "source": [
    "#### 10. Now it's time to code the execution of the game using the functions and variables you defined above. \n",
    "\n",
    "First, create a loop structure that repeats while no player reaches the minimum score necessary to win and the number of rounds is less than the maximum number of rounds to play in a game.  \n",
    "\n",
    "Inside the loop, use the functions and variables above to create the execution of a round: ask for the player's choice, generate the random choice of the computer, show the round results, update the scores, etc. "
   ]
  },
  {
   "cell_type": "code",
   "execution_count": null,
   "metadata": {},
   "outputs": [],
   "source": [
    "n = 1\n",
    "while n <= n_rounds:\n",
    "    player_hand = get_gesture()\n",
    "    cpu_hand = cpu_gesture()\n",
    "    result = round_winner(cpu_hand, player_hand)\n",
    "    message = display_choice(cpu_hand, player_hand, result)\n",
    "    n += 1\n",
    "    if n > n_rounds:\n",
    "        print(\"\\nThat's all folks!\")\n",
    "    else:\n",
    "        print(\"\\nReady? Round\", n, \"fight!\")\n"
   ]
  },
  {
   "cell_type": "markdown",
   "metadata": {},
   "source": [
    "#### 11. Print the winner of the game based on who won more rounds.\n",
    "Remember that the game might be tied. "
   ]
  },
  {
   "cell_type": "code",
   "execution_count": null,
   "metadata": {},
   "outputs": [],
   "source": [
    "if cpu_score == player_score:\n",
    "    print(\"It's a tie\")\n",
    "elif cpu_score > player_score:\n",
    "    print(\"The pc beat you\")\n",
    "else:\n",
    "    print(\"The odds were in your favour\")"
   ]
  },
  {
   "cell_type": "markdown",
   "metadata": {},
   "source": [
    "# Bonus: Rock, Paper, Scissors, Lizard & Spock\n",
    "![](images/rpsls.jpg)\n",
    "\n",
    "In this challenge, you need to improve the previous game by adding two new options. To know more about the rules of the improved version of rock, paper, scissors, check this [link](http://www.samkass.com/theories/RPSSL.html). \n",
    "\n",
    "In addition, you will also need to improve how the game interacts with the player: the number of rounds to play, which must be an odd number, will be requested to the user until a valid number is entered. Define a new function to make that request.\n",
    "\n",
    "**Hint**: Try to reuse the code that you already coded in the previous challenge. If your code is efficient, this bonus will only consist of simple modifications to the original game."
   ]
  },
  {
   "cell_type": "code",
   "execution_count": null,
   "metadata": {},
   "outputs": [],
   "source": [
    "# Rerun cell to update variables for addition of 'lizard' and 'spock', etc.\n",
    "gestures = ['rock', 'paper', 'scissors', 'lizard', 'spock']\n",
    "cpu_score = 0\n",
    "player_score = 0\n",
    "\n",
    "def game_length():\n",
    "    \"\"\"User must input odd number of rounds\"\"\"\n",
    "    while True:\n",
    "        try:\n",
    "            n_rounds = int(input(\"So how many rounds woud you like to play? Please choose an odd number (max 11 rounds): \"))\n",
    "            if n_rounds % 2 != 0 and n_rounds <= 11:\n",
    "                print(\"let's get started\\n\")\n",
    "                break\n",
    "        except ValueError:\n",
    "            print(\"Please choose an odd number\")\n",
    "        \n",
    "    return n_rounds\n",
    "\n",
    "\n",
    "def round_winner_2(cpu_hand, player_hand):\n",
    "    \"\"\"Checks player input against random cpu gesture, with spock + lizard addition\"\"\"\n",
    "    gestures_dict = {'rock': 0, 'paper': 1, 'scissors': 2, 'lizard': 3, 'spock': 4}\n",
    "    player_hand = gestures_dict.get(player_hand)\n",
    "    cpu_hand = gestures_dict.get(cpu_hand)\n",
    "\n",
    "    results_table = [\n",
    "                    [0, 2, 1, 1, 2], \n",
    "                    [1, 0, 2, 2, 1], \n",
    "                    [2, 1, 0, 1, 2],\n",
    "                    [2, 1, 2, 0, 1],\n",
    "                    [1, 2, 1, 2, 0]\n",
    "                    ]\n",
    "\n",
    "    result_idx = results_table[cpu_hand][player_hand]\n",
    "    #print(result_idx)\n",
    "    return result_idx\n",
    "\n",
    "n_rounds = game_length()\n",
    "n = 1\n",
    "\n",
    "while n <= n_rounds:\n",
    "    player_hand = get_gesture()\n",
    "    cpu_hand = cpu_gesture()\n",
    "    result = round_winner_2(cpu_hand, player_hand)\n",
    "    message = display_choice(cpu_hand, player_hand, result)\n",
    "    n += 1\n",
    "    if n > n_rounds:\n",
    "        print(\"\\nThat's all folks!\")\n",
    "        if cpu_score == player_score:\n",
    "            print(\"It's a tie\")\n",
    "        elif cpu_score > player_score:\n",
    "            print(\"The pc beat you\")\n",
    "        else:\n",
    "            print(\"The odds were in your favour\")\n",
    "    else:\n",
    "        print(\"\\nReady? Round\", n, \"fight!\")"
   ]
  }
 ],
 "metadata": {
  "kernelspec": {
   "display_name": "Python 3",
   "language": "python",
   "name": "python3"
  },
  "language_info": {
   "codemirror_mode": {
    "name": "ipython",
    "version": 3
   },
   "file_extension": ".py",
   "mimetype": "text/x-python",
   "name": "python",
   "nbconvert_exporter": "python",
   "pygments_lexer": "ipython3",
   "version": "3.8.2"
  }
 },
 "nbformat": 4,
 "nbformat_minor": 2
}
