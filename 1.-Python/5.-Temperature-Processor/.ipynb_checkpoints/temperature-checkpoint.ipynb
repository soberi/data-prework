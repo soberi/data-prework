{
 "cells": [
  {
   "cell_type": "markdown",
   "metadata": {},
   "source": [
    "<img src=\"https://bit.ly/2VnXWr2\" width=\"100\" align=\"left\">"
   ]
  },
  {
   "cell_type": "markdown",
   "metadata": {},
   "source": [
    "# Temperature Sensor\n",
    "\n",
    "There is a temperature sensor in the processor of your company's server. The company wants to analyze the data provided by the sensor to decide if they should change the cooling system for a better one. As changing the cooling system is expensive and you are an excellent data analyst, you can't make a decision without basis.\n",
    "\n",
    "## Tools\n",
    "You don't necessarily need to use all the tools. Maybe you opt to use some of them or completely different ones, they are given to help you shape the exercise. Programming exercises can be solved in many different ways.\n",
    "1. Data structures: **lists**\n",
    "2. Loops: **list comprehension**\n",
    "3. Functions: **min, max, print, len**\n",
    "4. Conditional statements: **if-elif-else**\n",
    "\n",
    "## Tasks\n",
    "The temperatures measured throughout the 24 hours of a day are:"
   ]
  },
  {
   "cell_type": "code",
   "execution_count": 1,
   "metadata": {},
   "outputs": [],
   "source": [
    "temperatures_C = [33, 66, 65, 0, 59, 60, 62, 64, 70, 76, 80, 81, 80, 83, 90, 79, 61, 53, 50, 49, 53, 48, 45, 39]"
   ]
  },
  {
   "cell_type": "markdown",
   "metadata": {},
   "source": [
    "The first element of the list is the temperature at 12am, the second element is the temperature at 1am, and so on. \n",
    "\n",
    "The company has decided that if one of the following events occurs, then the cooling system needs to be replaced for a new one to avoid damaging the processor.\n",
    "* More than 4 temperatures are greater than or equal to 70ºC.\n",
    "* Any temperature is above 80ºC.\n",
    "* The average temperature exceeds 65ºC.\n",
    "\n",
    "Follow the steps so that you can make the decision.\n",
    "\n",
    "#### 1. Find the minimum temperature of the day and store it in a variable."
   ]
  },
  {
   "cell_type": "code",
   "execution_count": 2,
   "metadata": {},
   "outputs": [
    {
     "name": "stdout",
     "output_type": "stream",
     "text": [
      "The minimum temperature is 0\n"
     ]
    }
   ],
   "source": [
    "min_temp_C = min(temperatures_C)\n",
    "print(\"The minimum temperature is\", min_temp_C)"
   ]
  },
  {
   "cell_type": "markdown",
   "metadata": {},
   "source": [
    "#### 2. Find the maximum temperature of the day and store it in a variable."
   ]
  },
  {
   "cell_type": "code",
   "execution_count": 3,
   "metadata": {},
   "outputs": [
    {
     "name": "stdout",
     "output_type": "stream",
     "text": [
      "The maximum temperature is 90\n"
     ]
    }
   ],
   "source": [
    "max_temp_C = max(temperatures_C)\n",
    "print(\"The maximum temperature is\", max_temp_C)"
   ]
  },
  {
   "cell_type": "markdown",
   "metadata": {},
   "source": [
    "#### 3. Create a list with the temperatures that are greater than or equal to 70ºC. Store it in a variable."
   ]
  },
  {
   "cell_type": "code",
   "execution_count": 4,
   "metadata": {},
   "outputs": [
    {
     "name": "stdout",
     "output_type": "stream",
     "text": [
      "List containing highest temperatures: [70, 76, 80, 81, 80, 83, 90, 79]\n"
     ]
    }
   ],
   "source": [
    "high_temps = []\n",
    "\n",
    "for temp in temperatures_C:\n",
    "    if temp >= 70:\n",
    "        high_temps.append(temp)\n",
    "\n",
    "print(\"List containing highest temperatures:\", high_temps)"
   ]
  },
  {
   "cell_type": "markdown",
   "metadata": {},
   "source": [
    "#### 4. Find the average temperature of the day and store it in a variable."
   ]
  },
  {
   "cell_type": "code",
   "execution_count": 5,
   "metadata": {},
   "outputs": [
    {
     "name": "stdout",
     "output_type": "stream",
     "text": [
      "The average temperature is: 60.25\n"
     ]
    }
   ],
   "source": [
    "avg_temp_C = sum(temperatures_C)/len(temperatures_C)\n",
    "print(\"The average temperature is:\", avg_temp_C)"
   ]
  },
  {
   "cell_type": "markdown",
   "metadata": {},
   "source": [
    "#### 5. Imagine that there was a sensor failure at 3am and the data for that specific hour was not recorded. How would you estimate the missing value? Replace the current value of the list at 3am for an estimation. "
   ]
  },
  {
   "cell_type": "code",
   "execution_count": 6,
   "metadata": {},
   "outputs": [
    {
     "name": "stdout",
     "output_type": "stream",
     "text": [
      "Estimated temperature at 3am: 62\n"
     ]
    }
   ],
   "source": [
    "# Using median of 2 temperatures before and after\n",
    "temperatures_C[3] = int((temperatures_C[2] + temperatures_C[4]) / 2)\n",
    "print(\"Estimated temperature at 3am:\", temperatures_C[3])"
   ]
  },
  {
   "cell_type": "markdown",
   "metadata": {},
   "source": [
    "#### 6. Bonus: the maintenance staff is from the United States and does not understand the international metric system. Help them by converting the temperatures from Celsius to Fahrenheit.\n",
    "To know more about temperature conversion check this [link](https://en.wikipedia.org/wiki/Conversion_of_units_of_temperature).\n",
    "\n",
    "**Formula**: \n",
    "\n",
    "$F = 1.8 * C + 32$"
   ]
  },
  {
   "cell_type": "code",
   "execution_count": 7,
   "metadata": {},
   "outputs": [
    {
     "name": "stdout",
     "output_type": "stream",
     "text": [
      "Here are the temperatures in Fahrenheit: [91.4, 150.8, 149.0, 143.6, 138.2, 140.0, 143.6, 147.2, 158.0, 168.8, 176.0, 177.8, 176.0, 181.4, 194.0, 174.2, 141.8, 127.4, 122.0, 120.2, 127.4, 118.4, 113.0, 102.2]\n"
     ]
    }
   ],
   "source": [
    "temperatures_F = []\n",
    "\n",
    "def temp_to_F(temp_C):\n",
    "    # Converts temperature from Celsius to Fahrenheit\n",
    "    temp_F = round((1.8 * temp_C + 32), 1)\n",
    "    return temp_F\n",
    "\n",
    "for temp in temperatures_C:\n",
    "    temperatures_F.append(temp_to_F(temp))\n",
    "\n",
    "print(\"Here are the temperatures in Fahrenheit:\", temperatures_F)"
   ]
  },
  {
   "cell_type": "markdown",
   "metadata": {},
   "source": [
    "#### 7. Make a decision!\n",
    "Now it's time to make a decision taking into account what you have seen until now. \n",
    "\n",
    "Remember that if one of the following events occurs, then the cooling system needs to be replaced for a new one to avoid damaging the processor.\n",
    "* More than 4 temperatures are greater than or equal to 70ºC.\n",
    "* Any temperature is above 80ºC.\n",
    "* The average temperature exceeds 65ºC.\n",
    "\n",
    "#### To make your decision, check if any of the three conditions above is met. You might need to use some of the variables you created in steps 1 to 6. Print a message to show if the cooling system needs to be changed or not."
   ]
  },
  {
   "cell_type": "code",
   "execution_count": 8,
   "metadata": {},
   "outputs": [
    {
     "name": "stdout",
     "output_type": "stream",
     "text": [
      "Time for a change\n"
     ]
    }
   ],
   "source": [
    "# criteria for deciding on new processor\n",
    "avg_high_temp_C = 70\n",
    "highest_temp_C = 80\n",
    "avg_temp_C = sum(temperatures_C)/len(temperatures_C)\n",
    "\n",
    "def temp_decider_C(temperatures):\n",
    "    # checks if cooling system is sufficient\n",
    "    high_temp = [temp >= avg_high_temp_C for temp in temperatures]\n",
    "    if sum(high_temp) > 4:\n",
    "        print(\"Time for a change\")\n",
    "    elif (temp > avg_high_temp_C for temp in temperatures):\n",
    "        print(\"Definitely time for a change\")\n",
    "    elif avg_temp_C > 65:\n",
    "        print(\"I don't see how your processor is still alive\")\n",
    "    else:\n",
    "        print(\"All good in the hood\")\n",
    "\n",
    "temp_decider_C(temperatures_C)"
   ]
  },
  {
   "cell_type": "markdown",
   "metadata": {},
   "source": [
    "## Bonus\n",
    "\n",
    "The company has decided that the decision you made is not valid. They want you to analyze the data again but this time, the conditions that need to be met in order to change the cooling system are different.\n",
    "\n",
    "This time, if one of the following events occurs, then the cooling system needs to be replaced:\n",
    "* The temperature is greater than 70ºC during more than 4 consecutive hours.\n",
    "* Any temperature is above 80ºC.\n",
    "* The average temperature exceeds 65ºC.\n",
    "\n",
    "Follow the steps so that you can make the decision.\n",
    "\n",
    "#### 1. Create a list with the hours where the temperature is greater than 70ºC. Store it in a variable."
   ]
  },
  {
   "cell_type": "code",
   "execution_count": 9,
   "metadata": {},
   "outputs": [
    {
     "name": "stdout",
     "output_type": "stream",
     "text": [
      "The following is a list of times when the temperature exceeded 70 degrees: ['9h00', '10h00', '11h00', '12h00', '13h00', '14h00', '15h00']\n"
     ]
    }
   ],
   "source": [
    "temps_hr = {}\n",
    "hr_counter = 0\n",
    "\n",
    "for temp in temperatures_C:\n",
    "    temps_hr[hr_counter] = temp\n",
    "    \n",
    "    if temp <= 70:\n",
    "        temps_hr.pop(hr_counter)\n",
    "    \n",
    "    hr_counter += 1\n",
    "\n",
    "high_temps_hr = [hr for hr in temps_hr]\n",
    "high_t_readout = [str(hr) + \"h00\" for hr in temps_hr]\n",
    "\n",
    "print(\"The following is a list of times when the temperature exceeded 70 degrees:\", high_t_readout)"
   ]
  },
  {
   "cell_type": "markdown",
   "metadata": {},
   "source": [
    "#### 2. Check if the list you created in step 1 has more than 4 consecutive hours. "
   ]
  },
  {
   "cell_type": "code",
   "execution_count": 10,
   "metadata": {},
   "outputs": [
    {
     "name": "stdout",
     "output_type": "stream",
     "text": [
      "There were more than 4 consecutive hours of heat.\n"
     ]
    }
   ],
   "source": [
    "counter = 0\n",
    "i = 1\n",
    "\n",
    "for hr in high_temps_hr:\n",
    "    if (high_temps_hr[i] - high_temps_hr[i - 1]) == 1:\n",
    "        counter += 1\n",
    "\n",
    "if counter > 4:\n",
    "    print(\"There were more than 4 consecutive hours of heat.\")"
   ]
  },
  {
   "cell_type": "markdown",
   "metadata": {},
   "source": [
    "#### 3. Make the decision!\n",
    "To make your decision, check if any of the three conditions is met. Print a message to show if the cooling system needs to be changed or not."
   ]
  },
  {
   "cell_type": "code",
   "execution_count": 11,
   "metadata": {},
   "outputs": [
    {
     "name": "stdout",
     "output_type": "stream",
     "text": [
      "Time for a change\n"
     ]
    }
   ],
   "source": [
    "def check_over_70(temperatures):\n",
    "    # Checks if temperature was over 70 for more than 4 hours in a row\n",
    "    counter = 0\n",
    "    for temp in temperatures:\n",
    "        if temp > 70:\n",
    "            counter += 1\n",
    "            if counter > 4:\n",
    "                #print(\"Temperature was higher than 70 for 4 consecutve hours\")\n",
    "                return True\n",
    "                break\n",
    "        else:\n",
    "            counter = 0\n",
    "\n",
    "def temp_decider_C(temperatures):\n",
    "    # checks if cooling system is sufficient\n",
    "    if check_over_70(temperatures_C) == True:\n",
    "        print(\"Time for a change\")\n",
    "    elif (temp > avg_high_temp_C for temp in temperatures):\n",
    "        print(\"Definitely time for a change\")\n",
    "    elif avg_temp_C > 65:\n",
    "        print(\"I don't see how your processor is still alive\")\n",
    "    else:\n",
    "        print(\"All good in the hood\")\n",
    "\n",
    "temp_decider_C(temperatures_C)"
   ]
  },
  {
   "cell_type": "markdown",
   "metadata": {},
   "source": [
    "#### 4. Find the average value of the temperature lists (ºC and ºF). What is the relation between both average values?"
   ]
  },
  {
   "cell_type": "code",
   "execution_count": 14,
   "metadata": {},
   "outputs": [
    {
     "name": "stdout",
     "output_type": "stream",
     "text": [
      "The average temperature in Celsius is 62.83 and the average in Fahrenheit is 145.1 . Their relation is that they are the exact same temperature written in different forms and, interestingly, lower than the required average for the processor to remain as is.\n"
     ]
    }
   ],
   "source": [
    "avg_temp_F = sum(temperatures_F)/len(temperatures_F)\n",
    "\n",
    "print(\"The average temperature in Celsius is\", round(avg_temp_C, 2), \"and the average in Fahrenheit is\",\n",
    "      round(avg_temp_F, 2), \". Their relation is that they are the exact same temperature written in \" +\n",
    "      \"different forms and, interestingly, lower than the required average for the processor to remain as is.\")"
   ]
  },
  {
   "cell_type": "markdown",
   "metadata": {},
   "source": [
    "#### 5. Find the standard deviation of the temperature lists (ºC and ºF). What is the relation between both standard deviations?"
   ]
  },
  {
   "cell_type": "code",
   "execution_count": 13,
   "metadata": {},
   "outputs": [
    {
     "name": "stdout",
     "output_type": "stream",
     "text": [
      "The standard deviation for Temperatures in Celsius is 14.95 and 26.91 for Fahrenheit. The standard deviations are notthe exact same temperature as with the average, because the range of 1°C does not equal that of 1°F degree Fahrenheit.\n"
     ]
    }
   ],
   "source": [
    "import statistics\n",
    "\n",
    "print(\"The standard deviation for Temperatures in Celsius is\", round(statistics.stdev(temperatures_C), 2),\n",
    "      \"and\", round(statistics.stdev(temperatures_F), 2), \"for Fahrenheit. The standard deviations are not\" + \n",
    "      \"the exact same temperature as with the average, because the range of 1°C does not equal that of \" + \n",
    "      \"1°F degree Fahrenheit.\")"
   ]
  }
 ],
 "metadata": {
  "kernelspec": {
   "display_name": "Python 3",
   "language": "python",
   "name": "python3"
  },
  "language_info": {
   "codemirror_mode": {
    "name": "ipython",
    "version": 3
   },
   "file_extension": ".py",
   "mimetype": "text/x-python",
   "name": "python",
   "nbconvert_exporter": "python",
   "pygments_lexer": "ipython3",
   "version": "3.8.2"
  }
 },
 "nbformat": 4,
 "nbformat_minor": 2
}
