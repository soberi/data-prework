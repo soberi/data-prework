{
 "cells": [
  {
   "cell_type": "markdown",
   "metadata": {},
   "source": [
    "<img src=\"https://bit.ly/2VnXWr2\" width=\"100\" align=\"left\"/>"
   ]
  },
  {
   "cell_type": "markdown",
   "metadata": {},
   "source": [
    "# Robin Hood\n",
    "Robin Hood has entered a competition to win the archery contest in Sherwood. With his bow and arrows, he needs to shoot on a target and try to hit as close as possible to the center.\n",
    "\n",
    "![](images/arrows.jpg)\n",
    "\n",
    "## Context\n",
    "In this challenge, the landing position of arrows shot by archers in the competition will be represented using 2-dimensional coordinates. \n",
    "\n",
    "In the 2-dimensional space, a point can be defined by a pair of values that correspond to the horizontal coordinate (x) and the vertical coordinate (y). For example, in our case, an arrow that hits the center of the archery target will land in position (0, 0) on the coordinate axes. \n",
    "\n",
    "The space can be divided into 4 zones (quadrants): Q1, Q2, Q3, Q4. If a point is in Q1, both its x coordinate and y coordinate are positive. Any point with a null x or y coordinate is considered to not belong to any quadrant. \n",
    "\n",
    "If you want to know more about the cartesian coordinate system, you can check this [link](https://en.wikipedia.org/wiki/Cartesian_coordinate_system). \n",
    "\n",
    "## Tools\n",
    "You don't necessarily need to use all the tools. Maybe you opt to use some of them or completely different ones, they are given to help you shape the exercise. Programming exercises can be solved in many different ways.\n",
    "* Data structures: **lists, sets, tuples**\n",
    "* Conditional statements: **if-elif-else**\n",
    "* Loop: **while/for**\n",
    "* Minimum (optional sorting)\n",
    "\n",
    "## Tasks\n",
    "Robin Hood has hit the following points:"
   ]
  },
  {
   "cell_type": "code",
   "execution_count": 14,
   "metadata": {},
   "outputs": [],
   "source": [
    "points = [(4, 5), (-0, 2), (4, 7), (1, -3), (3, -2), (4, 5), (3, 2), (5, 7), (-5, 7), (2, 2), (-4, 5), (0, -2),\n",
    "          (-4, 7), (-1, 3), (-3, 2), (-4, -5), (-3, 2), (5, 7), (5, 7), (2, 2), (9, 9), (-8, -9)]"
   ]
  },
  {
   "cell_type": "markdown",
   "metadata": {},
   "source": [
    "#### 1. Robin Hood is famous for hitting an arrow with another arrow. Find the coordinates of the points where an arrow hits another arrow."
   ]
  },
  {
   "cell_type": "code",
   "execution_count": 15,
   "metadata": {},
   "outputs": [
    {
     "name": "stdout",
     "output_type": "stream",
     "text": [
      "Hit (5, 7) 3 times!\n",
      "Hit (2, 2) 2 times!\n",
      "Hit (4, 5) 2 times!\n",
      "Hit (-3, 2) 2 times!\n",
      "\n"
     ]
    }
   ],
   "source": [
    "# Finding double or more hits\n",
    "double_bull = []\n",
    "counter = 0\n",
    "\n",
    "for point in points:\n",
    "    counter = points.count(point)\n",
    "    \n",
    "    if counter > 1:\n",
    "        double_bull.append(\"Hit \" + str(point) + \" \" + str(counter) + \" times!\\n\")\n",
    "\n",
    "# Using set() to remove duplicates\n",
    "print(\"\".join(list(set(double_bull))))"
   ]
  },
  {
   "cell_type": "markdown",
   "metadata": {},
   "source": [
    "#### 2. Calculate how many arrows have fallen in each quadrant. \n",
    "**Note**: the arrows that fall in the axis (x=0 or y=0) don't belong to any quadrant."
   ]
  },
  {
   "cell_type": "code",
   "execution_count": 16,
   "metadata": {},
   "outputs": [
    {
     "name": "stdout",
     "output_type": "stream",
     "text": [
      "There are 10 arrows in Q1, 2 in Q2, 2 in Q3 and 6 in Q4.\n"
     ]
    }
   ],
   "source": [
    "Q1 = 0\n",
    "Q2 = 0\n",
    "Q3 = 0\n",
    "Q4 = 0\n",
    "\n",
    "for point in points:\n",
    "    x, y = point\n",
    "    if x > 0 and y > 0:\n",
    "        Q1 += 1\n",
    "    elif x > 0 and y < 0:\n",
    "        Q2 += 1\n",
    "    elif x < 0 and y < 0:\n",
    "        Q3 += 1\n",
    "    elif x < 0 and y > 0:\n",
    "        Q4 += 1\n",
    "\n",
    "print(\"There are\", Q1, \"arrows in Q1,\", Q2, \"in Q2,\", Q3, \"in Q3 and\", Q4, \"in Q4.\")"
   ]
  },
  {
   "cell_type": "markdown",
   "metadata": {},
   "source": [
    "#### 3. Find the point closest to the center. Calculate its distance to the center. \n",
    "Take into account that there might be more than one point at the minimum distance to the center.\n",
    "\n",
    "**Hint**: Use the Euclidean distance. You can find more information about it [here](https://en.wikipedia.org/wiki/Euclidean_distance).  \n",
    "**Hint**: Defining a function that calculates the distance to the center can help."
   ]
  },
  {
   "cell_type": "code",
   "execution_count": 19,
   "metadata": {},
   "outputs": [
    {
     "name": "stdout",
     "output_type": "stream",
     "text": [
      "The coordinates that hit closest to the center were (0, 2), (0, -2) with a distance of 2.0\n"
     ]
    }
   ],
   "source": [
    "import math\n",
    "\n",
    "distance = []\n",
    "center = (0, 0)\n",
    "closest_hits = []\n",
    "\n",
    "def dist_center(x, y):\n",
    "#   Calculate the Euclidean distance: d = sqrt((x2 - x1)**2 + (y2 - y1)**2)\n",
    "    answer = round(math.sqrt((x - center[0])**2 + (y - center[1])**2), 2)\n",
    "    return answer\n",
    "\n",
    "for point in points:\n",
    "    x, y = point\n",
    "    distance.append(dist_center(x, y))\n",
    "\n",
    "closest_point = min(distance)\n",
    "\n",
    "for point in points:\n",
    "    x, y = point\n",
    "    if dist_center(x, y) == closest_point:\n",
    "        closest_hits.append(point)\n",
    "\n",
    "print(\"The coordinates that hit closest to the center were\", str(closest_hits).strip(\"[]\"),\n",
    "      \"with a distance of\", closest_point)"
   ]
  },
  {
   "cell_type": "markdown",
   "metadata": {},
   "source": [
    "#### 4. If the archery target has a radius of 9, calculate the number of arrows that won't hit the target. \n",
    "**Hint**: Use the function created in step 3. "
   ]
  },
  {
   "cell_type": "code",
   "execution_count": 18,
   "metadata": {},
   "outputs": [
    {
     "name": "stdout",
     "output_type": "stream",
     "text": [
      "2 arrows missed their target\n"
     ]
    }
   ],
   "source": [
    "misses = 0\n",
    "\n",
    "for arrow in distance:\n",
    "    if arrow > 9:\n",
    "        misses += 1\n",
    "print(misses, \"arrows missed their target\")"
   ]
  }
 ],
 "metadata": {
  "kernelspec": {
   "display_name": "Python 3",
   "language": "python",
   "name": "python3"
  },
  "language_info": {
   "codemirror_mode": {
    "name": "ipython",
    "version": 3
   },
   "file_extension": ".py",
   "mimetype": "text/x-python",
   "name": "python",
   "nbconvert_exporter": "python",
   "pygments_lexer": "ipython3",
   "version": "3.8.2"
  }
 },
 "nbformat": 4,
 "nbformat_minor": 2
}
